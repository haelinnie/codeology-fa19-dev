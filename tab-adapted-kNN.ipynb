{
 "cells": [
  {
   "cell_type": "code",
   "execution_count": 1,
   "metadata": {},
   "outputs": [],
   "source": [
    "import pandas as pd\n",
    "from scipy.sparse import csr_matrix\n",
    "from sklearn.neighbors import NearestNeighbors"
   ]
  },
  {
   "cell_type": "code",
   "execution_count": 7,
   "metadata": {},
   "outputs": [
    {
     "data": {
      "text/plain": [
       "'/Users/useradmin/Desktop/codeology-fa19-dev'"
      ]
     },
     "execution_count": 7,
     "metadata": {},
     "output_type": "execute_result"
    }
   ],
   "source": [
    "# import os\n",
    "# os.getcwd()"
   ]
  },
  {
   "cell_type": "code",
   "execution_count": 9,
   "metadata": {},
   "outputs": [],
   "source": [
    "path = '../movlens/'\n",
    "rfilename = 'popu_ratings.csv'\n",
    "mfilename = 'movies.csv'\n",
    "movies = pd.read_csv(path + mfilename)\n",
    "ratings = pd.read_csv(path + rfilename)"
   ]
  },
  {
   "cell_type": "code",
   "execution_count": 11,
   "metadata": {},
   "outputs": [],
   "source": [
    "mov_usr_table = ratings.pivot(index='movieId', columns='userId', values='rating').fillna(0)"
   ]
  },
  {
   "cell_type": "code",
   "execution_count": 12,
   "metadata": {},
   "outputs": [],
   "source": [
    "mov_usr_csr = csr_matrix(mov_usr_table)"
   ]
  },
  {
   "cell_type": "code",
   "execution_count": 13,
   "metadata": {},
   "outputs": [],
   "source": [
    "title_ind_map = {movie: i\n",
    "           for i, movie\n",
    "           in enumerate(list(movies.set_index('movieId').loc[mov_usr_table.index].title))}\n",
    "ind_title_map = {i: movie for movie, i in title_ind_map.items()}\n"
   ]
  },
  {
   "cell_type": "code",
   "execution_count": 40,
   "metadata": {},
   "outputs": [],
   "source": [
    "def rec_movies(base_movie, k=10, metric='cosine'):\n",
    "    model = NearestNeighbors(n_neighbors=k+1, algorithm='brute', metric=metric, n_jobs=-1)\n",
    "    model.fit(mov_usr_csr)\n",
    "\n",
    "    base_ind = title_ind_map[base_movie]\n",
    "    recommendations = model.kneighbors(X=mov_usr_csr[base_ind], return_distance=False)[0][1:]\n",
    "\n",
    "    rec_titles = [ind_title_map[id] for id in recommendations]\n",
    "    return str(rec_titles)"
   ]
  },
  {
   "cell_type": "code",
   "execution_count": 41,
   "metadata": {},
   "outputs": [],
   "source": [
    "import tabpy_client as tc\n",
    "connection = tc.Client('http://localhost:9004/')\n",
    "connection.deploy('recommend', rec_movies, 'Returns list of recommended movies', override=True)"
   ]
  },
  {
   "cell_type": "code",
   "execution_count": 30,
   "metadata": {},
   "outputs": [
    {
     "data": {
      "text/plain": [
       "['The Martian (2015)',\n",
       " 'Inception (2010)',\n",
       " 'Django Unchained (2012)',\n",
       " 'Dark Knight Rises, The (2012)',\n",
       " 'Edge of Tomorrow (2014)',\n",
       " 'Ex Machina (2015)',\n",
       " 'Gravity (2013)',\n",
       " 'The Imitation Game (2014)',\n",
       " 'Mad Max: Fury Road (2015)',\n",
       " 'Guardians of the Galaxy (2014)']"
      ]
     },
     "execution_count": 30,
     "metadata": {},
     "output_type": "execute_result"
    }
   ],
   "source": [
    "rec_movies('Interstellar (2014)')"
   ]
  },
  {
   "cell_type": "code",
   "execution_count": null,
   "metadata": {},
   "outputs": [],
   "source": [
    "# def rec_movies(base_movie, k=10, metric='cosine'):\n",
    "#     model = NearestNeighbors(n_neighbors=k+1, algorithm='brute', metric=metric, n_jobs=-1)\n",
    "#     model.fit(mov_usr_csr)\n",
    "\n",
    "#     base_ind = title_ind_map[base_movie]\n",
    "#     recommendations = model.kneighbors(X=mov_usr_csr[base_ind], return_distance=False)[0][1:]\n",
    "\n",
    "#     rec_titles = [ind_title_map[id] for id in recommendations]\n",
    "#     return rec_titles"
   ]
  }
 ],
 "metadata": {
  "kernelspec": {
   "display_name": "Python 3",
   "language": "python",
   "name": "python3"
  },
  "language_info": {
   "codemirror_mode": {
    "name": "ipython",
    "version": 3
   },
   "file_extension": ".py",
   "mimetype": "text/x-python",
   "name": "python",
   "nbconvert_exporter": "python",
   "pygments_lexer": "ipython3",
   "version": "3.6.5"
  }
 },
 "nbformat": 4,
 "nbformat_minor": 2
}
